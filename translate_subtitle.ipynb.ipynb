{
 "cells": [
  {
   "cell_type": "markdown",
   "metadata": {},
   "source": [
    "# 根据英文字母生成双语字幕"
   ]
  },
  {
   "cell_type": "code",
   "execution_count": 6,
   "metadata": {},
   "outputs": [],
   "source": [
    "import os\n",
    "import openai\n",
    "import srt\n",
    "import argparse\n",
    "\n",
    "\n",
    "# 设置OpenAI API Key\n",
    "openai.api_key = os.getenv(\"OPENAI_API_KEY\")\n",
    "\n",
    "def translate_text(text):\n",
    "    try:\n",
    "        # 使用OpenAI的ChatCompletion接口进行翻译\n",
    "        response = openai.ChatCompletion.create(\n",
    "            model=\"gpt-4o-mini\",\n",
    "            messages=[\n",
    "                {\"role\": \"system\", \"content\": \"你是一个翻译助手。\"},\n",
    "                {\"role\": \"user\", \"content\": f\"请将以下英文文本翻译成中文：\\n\\n{text}\"}\n",
    "            ],\n",
    "            temperature=0, # 翻译的准确性\n",
    "            max_tokens=1024\n",
    "        )\n",
    "        translation = response['choices'][0]['message']['content']\n",
    "        return translation.strip()\n",
    "    except Exception as e:\n",
    "        print(f\"翻译时出错：{e}\")\n",
    "        return \"\"\n",
    "    \n",
    "def create_bilingual_srt(subtitles):\n",
    "    bilingual_subtitles = []\n",
    "    for subtitle in subtitles:\n",
    "        original_text = subtitle.content\n",
    "        translation = translate_text(original_text)\n",
    "        combined_text = f\"{original_text}\\n{translation}\"\n",
    "        subtitle.content = combined_text\n",
    "        bilingual_subtitles.append(subtitle)\n",
    "    return bilingual_subtitles\n",
    "\n",
    "\n",
    "def main(args):\n",
    "    input_filename = args.input_filename # 输入的英文字幕文件名\n",
    "    output_filename = args.output_filename # 输出的中英双语字幕文件名\n",
    "    with open(input_filename, 'r', encoding='utf-8') as f:\n",
    "        srt_content = f.read()\n",
    "    subtitles = list(srt.parse(srt_content))\n",
    "    bilingual_subtitles = create_bilingual_srt(subtitles)\n",
    "    with open(output_filename, 'w', encoding='utf-8') as f:\n",
    "        f.write(srt.compose(bilingual_subtitles))\n",
    "    print(f\"中英双语字幕文件已保存为 {output_filename}\")\n",
    "\n",
    "\n",
    "def parse_args():\n",
    "    parser = argparse.ArgumentParser(description=\"Translate subtitle file\")\n",
    "    parser.add_argument(\"-i\", \"--input_filename\", type=str, default=\"subtitle.srt\", help=\"输入字幕文件名\")\n",
    "    parser.add_argument(\"-o\", \"--output_filename\", type=str, default=\"bilingual_subtitle.srt\", help=\"输出双语字幕文件名\")\n",
    "    return parser.parse_args()\n",
    "\n",
    "if __name__ == \"__main__\":\n",
    "    args = parse_args()\n",
    "    main(args)\n",
    "\n"
   ]
  },
  {
   "cell_type": "code",
   "execution_count": null,
   "metadata": {},
   "outputs": [],
   "source": [
    "\n",
    "\n"
   ]
  }
 ],
 "metadata": {
  "kernelspec": {
   "display_name": "base",
   "language": "python",
   "name": "python3"
  },
  "language_info": {
   "codemirror_mode": {
    "name": "ipython",
    "version": 3
   },
   "file_extension": ".py",
   "mimetype": "text/x-python",
   "name": "python",
   "nbconvert_exporter": "python",
   "pygments_lexer": "ipython3",
   "version": "3.11.4"
  }
 },
 "nbformat": 4,
 "nbformat_minor": 2
}
